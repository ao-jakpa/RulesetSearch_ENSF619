{
 "cells": [
  {
   "cell_type": "code",
   "execution_count": null,
   "id": "a7cd50b5",
   "metadata": {},
   "outputs": [],
   "source": [
    "%load_ext autoreload\n",
    "%autoreload 1"
   ]
  },
  {
   "cell_type": "code",
   "execution_count": null,
   "id": "0127c5e7",
   "metadata": {},
   "outputs": [],
   "source": [
    "import numpy as np\n",
    "import pandas as pd\n",
    "import datetime, copy, imp\n",
    "import pickle\n",
    "import time\n",
    "import os\n",
    "import re\n",
    "from sklearn.model_selection import StratifiedKFold\n",
    "from importlib import reload\n",
    "\n",
    "\n",
    "from tqdm.auto import tqdm, trange\n",
    "from tqdm.notebook import tqdm\n",
    "tqdm.pandas()\n",
    "\n",
    "import sys\n",
    "sys.path.insert(0, '../util/')"
   ]
  },
  {
   "cell_type": "code",
   "execution_count": null,
   "id": "80f3345e",
   "metadata": {},
   "outputs": [],
   "source": [
    "# Data description\n",
    "\n",
    "\n",
    "dataFileStr = '../data/MLBHospitalData.hd5'\n",
    "dat = pd.read_hdf(dataFileStr,key='Data')"
   ]
  },
  {
   "cell_type": "code",
   "execution_count": null,
   "id": "2b0cc774",
   "metadata": {},
   "outputs": [],
   "source": [
    "dat"
   ]
  },
  {
   "cell_type": "code",
   "execution_count": null,
   "id": "91ab2429",
   "metadata": {},
   "outputs": [],
   "source": [
    "# List of the diffirent states a patient can be in\n",
    "\n",
    "\n",
    "dat.Event.unique()"
   ]
  },
  {
   "cell_type": "code",
   "execution_count": null,
   "id": "6684c23b",
   "metadata": {},
   "outputs": [],
   "source": [
    "# Population of the data\n",
    "\n",
    "\n",
    "n = len(dat.index.get_level_values(0).unique())\n",
    "print('Population: {} individuals'.format(n))"
   ]
  },
  {
   "cell_type": "code",
   "execution_count": null,
   "id": "0ac9be91",
   "metadata": {},
   "outputs": [],
   "source": [
    "entryDates = dat.groupby(level=0).apply(lambda x: x.Date.min())\n",
    "entryDateCount = pd.Series(range(n),index=entryDates).resample('1M').count()\n",
    "entryDateCount.plot()"
   ]
  },
  {
   "cell_type": "code",
   "execution_count": null,
   "id": "6b2adf39",
   "metadata": {},
   "outputs": [],
   "source": [
    "# summary of each individua's uique events\n",
    "\n",
    "\n",
    "def timeline_summary(tbl,startDate='NoDate',endDate='NoDate'):\n",
    "    if startDate != 'NoDate' and endDate != 'NoDate':\n",
    "        tbl = tbl.loc[ (tbl.Date >= startDate) & (tbl.Date <= endDate) ]\n",
    "        \n",
    "    return pd.Series({\n",
    "        'NumGoodTestResult': (tbl.Event == 'GoodTestResult').sum(),\n",
    "        'NumStay': (tbl.Event == 'Stay').sum(),\n",
    "        'NumBadTestResult': (tbl.Event == 'BadTestResult').sum(),\n",
    "        'NumVitalsCrash': (tbl.Event == 'VitalsCrash').sum(),\n",
    "        'Tenure': (tbl.Date.max()-tbl.Date.min()).days\n",
    "    })"
   ]
  },
  {
   "cell_type": "code",
   "execution_count": null,
   "id": "638cb050",
   "metadata": {},
   "outputs": [],
   "source": [
    "ftr = dat.groupby(level=0).progress_apply(timeline_summary)"
   ]
  },
  {
   "cell_type": "code",
   "execution_count": null,
   "id": "d44808af",
   "metadata": {},
   "outputs": [],
   "source": []
  }
 ],
 "metadata": {
  "kernelspec": {
   "display_name": "Python 3 (ipykernel)",
   "language": "python",
   "name": "python3"
  },
  "language_info": {
   "codemirror_mode": {
    "name": "ipython",
    "version": 3
   },
   "file_extension": ".py",
   "mimetype": "text/x-python",
   "name": "python",
   "nbconvert_exporter": "python",
   "pygments_lexer": "ipython3",
   "version": "3.8.10"
  }
 },
 "nbformat": 4,
 "nbformat_minor": 5
}
