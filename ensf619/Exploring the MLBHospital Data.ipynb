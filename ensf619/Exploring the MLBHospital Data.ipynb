{
 "cells": [
  {
   "cell_type": "code",
   "execution_count": 1,
   "id": "1f27c710",
   "metadata": {},
   "outputs": [],
   "source": [
    "%load_ext autoreload\n",
    "%autoreload 1"
   ]
  },
  {
   "cell_type": "code",
   "execution_count": 2,
   "id": "c7ef9865",
   "metadata": {},
   "outputs": [],
   "source": [
    "import numpy as np\n",
    "import pandas as pd\n",
    "import datetime, copy, imp\n",
    "import pickle\n",
    "import time\n",
    "import os\n",
    "import re\n",
    "from sklearn.model_selection import StratifiedKFold\n",
    "from importlib import reload\n",
    "\n",
    "\n",
    "from tqdm.auto import tqdm, trange\n",
    "from tqdm.notebook import tqdm\n",
    "tqdm.pandas()\n",
    "\n",
    "import sys\n",
    "sys.path.insert(0, '../util/')"
   ]
  },
  {
   "cell_type": "code",
   "execution_count": 3,
   "id": "7ae77537",
   "metadata": {},
   "outputs": [],
   "source": [
    "# Data description\n",
    "\n",
    "\n",
    "dataFileStr = '../data/MLBHospitalData.hd5'\n",
    "dat = pd.read_hdf(dataFileStr,key='Data')"
   ]
  },
  {
   "cell_type": "code",
   "execution_count": 4,
   "id": "4d4ac0c7",
   "metadata": {},
   "outputs": [
    {
     "data": {
      "text/html": [
       "<div>\n",
       "<style scoped>\n",
       "    .dataframe tbody tr th:only-of-type {\n",
       "        vertical-align: middle;\n",
       "    }\n",
       "\n",
       "    .dataframe tbody tr th {\n",
       "        vertical-align: top;\n",
       "    }\n",
       "\n",
       "    .dataframe thead th {\n",
       "        text-align: right;\n",
       "    }\n",
       "</style>\n",
       "<table border=\"1\" class=\"dataframe\">\n",
       "  <thead>\n",
       "    <tr style=\"text-align: right;\">\n",
       "      <th></th>\n",
       "      <th></th>\n",
       "      <th>Date</th>\n",
       "      <th>Event</th>\n",
       "    </tr>\n",
       "    <tr>\n",
       "      <th>Player</th>\n",
       "      <th></th>\n",
       "      <th></th>\n",
       "      <th></th>\n",
       "    </tr>\n",
       "  </thead>\n",
       "  <tbody>\n",
       "    <tr>\n",
       "      <th rowspan=\"5\" valign=\"top\">abrej003</th>\n",
       "      <th>0</th>\n",
       "      <td>2009-01-08 00:01:00</td>\n",
       "      <td>GoodTestResult</td>\n",
       "    </tr>\n",
       "    <tr>\n",
       "      <th>1</th>\n",
       "      <td>2009-06-03 00:01:00</td>\n",
       "      <td>Stay</td>\n",
       "    </tr>\n",
       "    <tr>\n",
       "      <th>2</th>\n",
       "      <td>2009-06-05 00:01:00</td>\n",
       "      <td>Stay</td>\n",
       "    </tr>\n",
       "    <tr>\n",
       "      <th>3</th>\n",
       "      <td>2009-06-06 00:01:00</td>\n",
       "      <td>Stay</td>\n",
       "    </tr>\n",
       "    <tr>\n",
       "      <th>4</th>\n",
       "      <td>2009-06-07 00:01:00</td>\n",
       "      <td>Stay</td>\n",
       "    </tr>\n",
       "    <tr>\n",
       "      <th>...</th>\n",
       "      <th>...</th>\n",
       "      <td>...</td>\n",
       "      <td>...</td>\n",
       "    </tr>\n",
       "    <tr>\n",
       "      <th rowspan=\"5\" valign=\"top\">zunim001</th>\n",
       "      <th>718</th>\n",
       "      <td>2014-10-26 00:01:00</td>\n",
       "      <td>Stay</td>\n",
       "    </tr>\n",
       "    <tr>\n",
       "      <th>719</th>\n",
       "      <td>2014-10-29 00:01:00</td>\n",
       "      <td>Stay</td>\n",
       "    </tr>\n",
       "    <tr>\n",
       "      <th>720</th>\n",
       "      <td>2014-11-05 00:01:00</td>\n",
       "      <td>Stay</td>\n",
       "    </tr>\n",
       "    <tr>\n",
       "      <th>721</th>\n",
       "      <td>2014-11-12 00:01:00</td>\n",
       "      <td>Stay</td>\n",
       "    </tr>\n",
       "    <tr>\n",
       "      <th>722</th>\n",
       "      <td>2015-12-11 00:01:00</td>\n",
       "      <td>GoodTestResult</td>\n",
       "    </tr>\n",
       "  </tbody>\n",
       "</table>\n",
       "<p>452995 rows × 2 columns</p>\n",
       "</div>"
      ],
      "text/plain": [
       "                            Date           Event\n",
       "Player                                          \n",
       "abrej003 0   2009-01-08 00:01:00  GoodTestResult\n",
       "         1   2009-06-03 00:01:00            Stay\n",
       "         2   2009-06-05 00:01:00            Stay\n",
       "         3   2009-06-06 00:01:00            Stay\n",
       "         4   2009-06-07 00:01:00            Stay\n",
       "...                          ...             ...\n",
       "zunim001 718 2014-10-26 00:01:00            Stay\n",
       "         719 2014-10-29 00:01:00            Stay\n",
       "         720 2014-11-05 00:01:00            Stay\n",
       "         721 2014-11-12 00:01:00            Stay\n",
       "         722 2015-12-11 00:01:00  GoodTestResult\n",
       "\n",
       "[452995 rows x 2 columns]"
      ]
     },
     "execution_count": 4,
     "metadata": {},
     "output_type": "execute_result"
    }
   ],
   "source": [
    "dat"
   ]
  },
  {
   "cell_type": "code",
   "execution_count": 5,
   "id": "322d0a8a",
   "metadata": {},
   "outputs": [
    {
     "data": {
      "text/plain": [
       "array(['GoodTestResult', 'Stay', 'BadTestResult', 'VitalsCrash'],\n",
       "      dtype=object)"
      ]
     },
     "execution_count": 5,
     "metadata": {},
     "output_type": "execute_result"
    }
   ],
   "source": [
    "# List of the diffirent states a patient can be in\n",
    "\n",
    "\n",
    "dat.Event.unique()"
   ]
  },
  {
   "cell_type": "code",
   "execution_count": 6,
   "id": "683ab0ce",
   "metadata": {},
   "outputs": [
    {
     "name": "stdout",
     "output_type": "stream",
     "text": [
      "Population: 915 individuals\n"
     ]
    }
   ],
   "source": [
    "# Population of the data\n",
    "\n",
    "\n",
    "n = len(dat.index.get_level_values(0).unique())\n",
    "print('Population: {} individuals'.format(n))"
   ]
  },
  {
   "cell_type": "code",
   "execution_count": 7,
   "id": "25932058",
   "metadata": {},
   "outputs": [
    {
     "data": {
      "text/plain": [
       "<AxesSubplot:>"
      ]
     },
     "execution_count": 7,
     "metadata": {},
     "output_type": "execute_result"
    },
    {
     "data": {
      "image/png": "[encoded data removed]",
      "text/plain": [
       "<Figure size 432x288 with 1 Axes>"
      ]
     },
     "metadata": {
      "needs_background": "light"
     },
     "output_type": "display_data"
    }
   ],
   "source": [
    "entryDates = dat.groupby(level=0).apply(lambda x: x.Date.min())\n",
    "entryDateCount = pd.Series(range(n),index=entryDates).resample('1M').count()\n",
    "entryDateCount.plot()"
   ]
  },
  {
   "cell_type": "code",
   "execution_count": 8,
   "id": "ac4a2add",
   "metadata": {},
   "outputs": [],
   "source": [
    "# summary of each individual's uique events\n",
    "\n",
    "\n",
    "def timeline_summary(tbl,startDate='NoDate',endDate='NoDate'):\n",
    "    if startDate != 'NoDate' and endDate != 'NoDate':\n",
    "        tbl = tbl.loc[ (tbl.Date >= startDate) & (tbl.Date <= endDate) ]\n",
    "        \n",
    "    return pd.Series({\n",
    "        'NumGoodTestResult': (tbl.Event == 'GoodTestResult').sum(),\n",
    "        'NumStay': (tbl.Event == 'Stay').sum(),\n",
    "        'NumBadTestResult': (tbl.Event == 'BadTestResult').sum(),\n",
    "        'NumVitalsCrash': (tbl.Event == 'VitalsCrash').sum(),\n",
    "        'Tenure': (tbl.Date.max()-tbl.Date.min()).days\n",
    "    })"
   ]
  },
  {
   "cell_type": "code",
   "execution_count": 9,
   "id": "fafdce6f",
   "metadata": {},
   "outputs": [
    {
     "data": {
      "application/vnd.jupyter.widget-view+json": {
       "model_id": "209a2e61ec2e4b409e73f06c598cea58",
       "version_major": 2,
       "version_minor": 0
      },
      "text/plain": [
       "  0%|          | 0/915 [00:00<?, ?it/s]"
      ]
     },
     "metadata": {},
     "output_type": "display_data"
    }
   ],
   "source": [
    "ftr = dat.groupby(level=0).progress_apply(timeline_summary)"
   ]
  },
  {
   "cell_type": "code",
   "execution_count": 10,
   "id": "e00b3496",
   "metadata": {},
   "outputs": [
    {
     "data": {
      "text/html": [
       "<div>\n",
       "<style scoped>\n",
       "    .dataframe tbody tr th:only-of-type {\n",
       "        vertical-align: middle;\n",
       "    }\n",
       "\n",
       "    .dataframe tbody tr th {\n",
       "        vertical-align: top;\n",
       "    }\n",
       "\n",
       "    .dataframe thead th {\n",
       "        text-align: right;\n",
       "    }\n",
       "</style>\n",
       "<table border=\"1\" class=\"dataframe\">\n",
       "  <thead>\n",
       "    <tr style=\"text-align: right;\">\n",
       "      <th></th>\n",
       "      <th>NumGoodTestResult</th>\n",
       "      <th>NumStay</th>\n",
       "      <th>NumBadTestResult</th>\n",
       "      <th>NumVitalsCrash</th>\n",
       "      <th>Tenure</th>\n",
       "    </tr>\n",
       "    <tr>\n",
       "      <th>Player</th>\n",
       "      <th></th>\n",
       "      <th></th>\n",
       "      <th></th>\n",
       "      <th></th>\n",
       "      <th></th>\n",
       "    </tr>\n",
       "  </thead>\n",
       "  <tbody>\n",
       "    <tr>\n",
       "      <th>abrej003</th>\n",
       "      <td>3</td>\n",
       "      <td>899</td>\n",
       "      <td>179</td>\n",
       "      <td>5</td>\n",
       "      <td>2180</td>\n",
       "    </tr>\n",
       "    <tr>\n",
       "      <th>ackld001</th>\n",
       "      <td>9</td>\n",
       "      <td>556</td>\n",
       "      <td>46</td>\n",
       "      <td>0</td>\n",
       "      <td>3502</td>\n",
       "    </tr>\n",
       "    <tr>\n",
       "      <th>adamc001</th>\n",
       "      <td>10</td>\n",
       "      <td>64</td>\n",
       "      <td>2</td>\n",
       "      <td>0</td>\n",
       "      <td>4709</td>\n",
       "    </tr>\n",
       "    <tr>\n",
       "      <th>adaml001</th>\n",
       "      <td>17</td>\n",
       "      <td>15</td>\n",
       "      <td>7</td>\n",
       "      <td>0</td>\n",
       "      <td>4100</td>\n",
       "    </tr>\n",
       "    <tr>\n",
       "      <th>adamm002</th>\n",
       "      <td>12</td>\n",
       "      <td>548</td>\n",
       "      <td>116</td>\n",
       "      <td>0</td>\n",
       "      <td>4040</td>\n",
       "    </tr>\n",
       "    <tr>\n",
       "      <th>...</th>\n",
       "      <td>...</td>\n",
       "      <td>...</td>\n",
       "      <td>...</td>\n",
       "      <td>...</td>\n",
       "      <td>...</td>\n",
       "    </tr>\n",
       "    <tr>\n",
       "      <th>zimmb001</th>\n",
       "      <td>2</td>\n",
       "      <td>104</td>\n",
       "      <td>10</td>\n",
       "      <td>0</td>\n",
       "      <td>2991</td>\n",
       "    </tr>\n",
       "    <tr>\n",
       "      <th>zimmj003</th>\n",
       "      <td>4</td>\n",
       "      <td>273</td>\n",
       "      <td>1</td>\n",
       "      <td>0</td>\n",
       "      <td>4803</td>\n",
       "    </tr>\n",
       "    <tr>\n",
       "      <th>zimmr001</th>\n",
       "      <td>4</td>\n",
       "      <td>1618</td>\n",
       "      <td>270</td>\n",
       "      <td>4</td>\n",
       "      <td>5500</td>\n",
       "    </tr>\n",
       "    <tr>\n",
       "      <th>zobrb001</th>\n",
       "      <td>7</td>\n",
       "      <td>1528</td>\n",
       "      <td>167</td>\n",
       "      <td>4</td>\n",
       "      <td>5485</td>\n",
       "    </tr>\n",
       "    <tr>\n",
       "      <th>zunim001</th>\n",
       "      <td>4</td>\n",
       "      <td>615</td>\n",
       "      <td>104</td>\n",
       "      <td>0</td>\n",
       "      <td>4097</td>\n",
       "    </tr>\n",
       "  </tbody>\n",
       "</table>\n",
       "<p>915 rows × 5 columns</p>\n",
       "</div>"
      ],
      "text/plain": [
       "          NumGoodTestResult  NumStay  NumBadTestResult  NumVitalsCrash  Tenure\n",
       "Player                                                                        \n",
       "abrej003                  3      899               179               5    2180\n",
       "ackld001                  9      556                46               0    3502\n",
       "adamc001                 10       64                 2               0    4709\n",
       "adaml001                 17       15                 7               0    4100\n",
       "adamm002                 12      548               116               0    4040\n",
       "...                     ...      ...               ...             ...     ...\n",
       "zimmb001                  2      104                10               0    2991\n",
       "zimmj003                  4      273                 1               0    4803\n",
       "zimmr001                  4     1618               270               4    5500\n",
       "zobrb001                  7     1528               167               4    5485\n",
       "zunim001                  4      615               104               0    4097\n",
       "\n",
       "[915 rows x 5 columns]"
      ]
     },
     "execution_count": 10,
     "metadata": {},
     "output_type": "execute_result"
    }
   ],
   "source": [
    "ftr"
   ]
  },
  {
   "cell_type": "code",
   "execution_count": null,
   "id": "3005dea2",
   "metadata": {},
   "outputs": [],
   "source": []
  }
 ],
 "metadata": {
  "kernelspec": {
   "display_name": "Python 3 (ipykernel)",
   "language": "python",
   "name": "python3"
  },
  "language_info": {
   "codemirror_mode": {
    "name": "ipython",
    "version": 3
   },
   "file_extension": ".py",
   "mimetype": "text/x-python",
   "name": "python",
   "nbconvert_exporter": "python",
   "pygments_lexer": "ipython3",
   "version": "3.8.10"
  }
 },
 "nbformat": 4,
 "nbformat_minor": 5
}
