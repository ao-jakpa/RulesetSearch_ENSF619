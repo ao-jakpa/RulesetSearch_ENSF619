{
 "cells": [
  {
   "cell_type": "code",
   "execution_count": 1,
   "id": "b66559cf",
   "metadata": {},
   "outputs": [],
   "source": [
    "%load_ext autoreload\n",
    "%autoreload 1"
   ]
  },
  {
   "cell_type": "code",
   "execution_count": 2,
   "id": "c8580669",
   "metadata": {},
   "outputs": [],
   "source": [
    "import numpy as np\n",
    "import pandas as pd\n",
    "import datetime, copy, imp\n",
    "import pickle\n",
    "import time\n",
    "import os\n",
    "import re\n",
    "from sklearn.model_selection import StratifiedKFold\n",
    "from importlib import reload\n",
    "\n",
    "\n",
    "from tqdm.auto import tqdm, trange\n",
    "from tqdm.notebook import tqdm\n",
    "tqdm.pandas()\n",
    "\n",
    "import sys\n",
    "sys.path.insert(0, '../util/')\n",
    "\n",
    "import rules as rs"
   ]
  },
  {
   "cell_type": "code",
   "execution_count": null,
   "id": "183021e2",
   "metadata": {},
   "outputs": [],
   "source": []
  },
  {
   "cell_type": "code",
   "execution_count": 3,
   "id": "83a628fe",
   "metadata": {},
   "outputs": [],
   "source": [
    "# coverage table that the rule set search will run on"
   ]
  },
  {
   "cell_type": "code",
   "execution_count": 4,
   "id": "4c9f8b5e",
   "metadata": {},
   "outputs": [],
   "source": [
    "covFileStr = '../data/MLB-CoverageTable.pkl'\n",
    "\n",
    "with open(covFileStr,'rb') as pklFile:\n",
    "    mlbData = pickle.load(pklFile)\n",
    "\n",
    "exsMlb = rs.Examples(mlbData)"
   ]
  },
  {
   "cell_type": "code",
   "execution_count": null,
   "id": "7c218e03",
   "metadata": {},
   "outputs": [],
   "source": []
  },
  {
   "cell_type": "code",
   "execution_count": 5,
   "id": "bea6788f",
   "metadata": {},
   "outputs": [],
   "source": [
    "# Search for a single rule with F-score as the optimisation metric"
   ]
  },
  {
   "cell_type": "code",
   "execution_count": 6,
   "id": "a62fea31",
   "metadata": {},
   "outputs": [
    {
     "name": "stdout",
     "output_type": "stream",
     "text": [
      "Finished Depth: 1\n",
      " MaxPotQuality: 0.92 (evaluated), 0.88 (todo)\n",
      " Best Rule: [112, 55]:(['A2 >= 56.5' 'A0 < 544']), Quality: 0.7437722419928826\n",
      "Finished Depth: 2\n",
      " MaxPotQuality: 0.89 (evaluated), 0.87 (todo)\n",
      " Best Rule: [112, 55, 28]:(['A2 >= 56.5' 'A0 < 544' 'A0 >= 260']), Quality: 0.7712177121771219\n",
      "Finished Depth: 3\n",
      " MaxPotQuality: 0.88 (evaluated), nan (todo)\n",
      " Best Rule: [112, 55, 28]:(['A2 >= 56.5' 'A0 < 544' 'A0 >= 260']), Quality: 0.7712177121771219\n",
      "\n",
      "-- Best Rule --\n",
      "Rule: ['A2 >= 56.5' 'A0 < 544' 'A0 >= 260']\n",
      "\n",
      " Precision: 0.9048\n",
      " Recall: 0.3115\n",
      " Confusion:\n",
      "  True Pos: 19/61\n",
      "  False Neg: 42/61\n",
      "  False Pos: 2/854\n",
      "  True Neg: 852/854\n",
      "\n"
     ]
    }
   ],
   "source": [
    "qual = rs.RuleQualFScore(exsMlb.FtrStrs,betaSq=0.1)\n",
    "rSrch = rs.OpusRuleSearch(ruleQuality=qual, maxRuleLen=3, debug=rs.OPUS_DEBUG_RULE_DEPTH)\n",
    "rBest = rSrch.find_rule(exsMlb)\n",
    "\n",
    "print('\\n-- Best Rule --')\n",
    "qual.print_summary([rBest],exsMlb.CovTbl,exsMlb.Labels)"
   ]
  },
  {
   "cell_type": "code",
   "execution_count": null,
   "id": "36d36952",
   "metadata": {},
   "outputs": [],
   "source": []
  },
  {
   "cell_type": "code",
   "execution_count": 7,
   "id": "9f912dd3",
   "metadata": {},
   "outputs": [],
   "source": [
    "# Search for best ruleset with F-score as the optimisation metric"
   ]
  },
  {
   "cell_type": "code",
   "execution_count": 8,
   "id": "c7379ca1",
   "metadata": {},
   "outputs": [
    {
     "name": "stdout",
     "output_type": "stream",
     "text": [
      "Searching for individual rule...\n",
      "Finished Depth: 1\n",
      " MaxPotQuality: 0.92 (evaluated), 0.88 (todo)\n",
      " Best Rule: [112, 55]:(['A2 >= 56.5' 'A0 < 544']), Quality: 0.7437722419928826\n",
      "Finished Depth: 2\n",
      " MaxPotQuality: 0.89 (evaluated), 0.87 (todo)\n",
      " Best Rule: [112, 55, 28]:(['A2 >= 56.5' 'A0 < 544' 'A0 >= 260']), Quality: 0.7712177121771219\n",
      "Finished Depth: 3\n",
      " MaxPotQuality: 0.88 (evaluated), nan (todo)\n",
      " Best Rule: [112, 55, 28]:(['A2 >= 56.5' 'A0 < 544' 'A0 >= 260']), Quality: 0.7712177121771219\n",
      "\n",
      "-- New Rule --\n",
      "Rule: ['A2 >= 56.5' 'A0 < 544' 'A0 >= 260']\n",
      "\n",
      " Precision: 0.9048\n",
      " Recall: 0.3115\n",
      " Confusion:\n",
      "  True Pos: 19/61\n",
      "  False Neg: 42/61\n",
      "  False Pos: 2/854\n",
      "  True Neg: 852/854\n",
      "\n",
      "Total Label Weight: 61.0 (before), 42.0 (after)\n",
      "\n",
      "Searching for individual rule...\n",
      "Finished Depth: 1\n",
      " MaxPotQuality: 0.91 (evaluated), 0.85 (todo)\n",
      " Best Rule: [104, 109]:(['A2 >= 42.5' 'A2 < 52.5']), Quality: 0.5755813953488372\n",
      "Finished Depth: 2\n",
      " MaxPotQuality: 0.86 (evaluated), 0.82 (todo)\n",
      " Best Rule: [104, 109, 22]:(['A2 >= 42.5' 'A2 < 52.5' 'A0 >= 210']), Quality: 0.6111111111111112\n",
      "Finished Depth: 3\n",
      " MaxPotQuality: 0.83 (evaluated), nan (todo)\n",
      " Best Rule: [104, 109, 22]:(['A2 >= 42.5' 'A2 < 52.5' 'A0 >= 210']), Quality: 0.6111111111111112\n",
      "\n",
      "-- New Rule --\n",
      "Rule: ['A2 >= 42.5' 'A2 < 52.5' 'A0 >= 210']\n",
      "\n",
      " Precision: 0.7500\n",
      " Recall: 0.1475\n",
      " Confusion:\n",
      "  True Pos: 9/61\n",
      "  False Neg: 52/61\n",
      "  False Pos: 3/854\n",
      "  True Neg: 851/854\n",
      "\n",
      "Total Label Weight: 42.0 (before), 33.0 (after)\n",
      "\n",
      "\n",
      "==== Rule Set ====\n",
      "Rule: ['A2 >= 56.5' 'A0 < 544' 'A0 >= 260']|['A2 >= 42.5' 'A2 < 52.5' 'A0 >= 210']\n",
      "\n",
      " Precision: 0.8485\n",
      " Recall: 0.4590\n",
      " Confusion:\n",
      "  True Pos: 28/61\n",
      "  False Neg: 33/61\n",
      "  False Pos: 5/854\n",
      "  True Neg: 849/854\n",
      "\n",
      "\n",
      "Final Rule Set: ['A2 >= 56.5' 'A0 < 544' 'A0 >= 260']|['A2 >= 42.5' 'A2 < 52.5' 'A0 >= 210']\n"
     ]
    }
   ],
   "source": [
    "qual = rs.RuleQualFScore(exsMlb.FtrStrs,betaSq=0.1)\n",
    "rSrch = rs.OpusRuleSearch(ruleQuality=qual, maxRuleLen=3, debug=rs.OPUS_DEBUG_RULE_DEPTH)\n",
    "ruleSet = rs.rule_set_search(qual,rSrch,exsMlb,maxSetSize=2,debug=True)\n",
    "print(f'\\nFinal Rule Set: {qual.ruleset_str(ruleSet)}')"
   ]
  },
  {
   "cell_type": "code",
   "execution_count": null,
   "id": "d051faec",
   "metadata": {},
   "outputs": [],
   "source": []
  }
 ],
 "metadata": {
  "kernelspec": {
   "display_name": "Python 3 (ipykernel)",
   "language": "python",
   "name": "python3"
  },
  "language_info": {
   "codemirror_mode": {
    "name": "ipython",
    "version": 3
   },
   "file_extension": ".py",
   "mimetype": "text/x-python",
   "name": "python",
   "nbconvert_exporter": "python",
   "pygments_lexer": "ipython3",
   "version": "3.8.10"
  }
 },
 "nbformat": 4,
 "nbformat_minor": 5
}
